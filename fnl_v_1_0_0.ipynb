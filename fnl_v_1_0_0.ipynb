{
 "cells": [
  {
   "cell_type": "markdown",
   "metadata": {},
   "source": [
    "<img src=\"Figs/GEOS_Logo.pdf\" width=\"500\" />"
   ]
  },
  {
   "cell_type": "markdown",
   "metadata": {},
   "source": [
    "\n",
    "# Step **13** of **`G2FNL`**: <font color=blue>\"fnl.ipynb\"</font>\n",
    "#### Oct 23, 2021  <font color=red>(v. 1.0.0)</font>\n",
    "##### Jeonghyeop Kim (jeonghyeop.kim@gmail.com)\n",
    "\n",
    "> input files: **`displacement_i`**, **`displacement_time_label.dat`** and **`station_list_full.dat`** \\\n",
    "> output files: **`fnl_i.dat`** : preprocessed `final` GNSS data\n",
    "\n",
    "0. This code is a part of GPS2FNL process.\n",
    "1. It will generate fnl_i.dat where i in the number of months with displacements\n",
    "2. Before this code, each of *_i files has time series data for each station. \n",
    "3. After this code, each fnl_i.dat file has 4-mo (or 6-mo) displacements for a month\n"
   ]
  },
  {
   "cell_type": "markdown",
   "metadata": {},
   "source": [
    "<div class=\"alert alert-danger\">\n",
    "Do NOT run this code twice without re-starting the kernel\n",
    "</div>"
   ]
  },
  {
   "cell_type": "code",
   "execution_count": 1,
   "metadata": {},
   "outputs": [],
   "source": [
    "# 1. import modules\n",
    "import numpy as np\n",
    "import pandas as pd\n",
    "import os"
   ]
  },
  {
   "cell_type": "code",
   "execution_count": 2,
   "metadata": {},
   "outputs": [
    {
     "data": {
      "text/plain": [
       "'/Users/jkim/main/GPS2FNL_2021/summer_project_2021'"
      ]
     },
     "execution_count": 2,
     "metadata": {},
     "output_type": "execute_result"
    }
   ],
   "source": [
    "current_dir=os.getcwd()\n",
    "os.getcwd()"
   ]
  },
  {
   "cell_type": "code",
   "execution_count": 3,
   "metadata": {},
   "outputs": [],
   "source": [
    "# Read a 'time_vector.dat' and get a label \n",
    "filename = 'displacement_time_label.dat'\n",
    "time_vec = pd.read_csv(filename,sep=' ',header=None)\n",
    "N_month = len(time_vec)\n",
    "\n",
    "list_full = \"station_list_full.dat\"\n",
    "df_list=pd.read_csv(list_full, header=None)\n",
    "df_list.columns = ['stID']\n",
    "N_list = len(df_list) "
   ]
  },
  {
   "cell_type": "code",
   "execution_count": 4,
   "metadata": {},
   "outputs": [
    {
     "data": {
      "text/plain": [
       "'/Users/jkim/main/GPS2FNL_2021/summer_project_2021/data/processing'"
      ]
     },
     "execution_count": 4,
     "metadata": {},
     "output_type": "execute_result"
    }
   ],
   "source": [
    "processing_dir = os.path.join(current_dir, 'data', 'processing')\n",
    "os.chdir(processing_dir) # cp to processing directory\n",
    "os.getcwd()"
   ]
  },
  {
   "cell_type": "code",
   "execution_count": 6,
   "metadata": {},
   "outputs": [],
   "source": [
    "\n",
    "for n in range(N_month): #N_month\n",
    "    array_frame = np.zeros((N_list,8))\n",
    "    \n",
    "    \n",
    "    for i in range(N_list): #N_list:\n",
    "        inputfile = \"displacement_\"+str(i+1) #input_file = displacement_\"$i\"\n",
    "        df_input=pd.read_csv(inputfile,sep=' ',header=None)  \n",
    "        df_input.columns = ['lon','lat','ue','un','se','sn','corr_en','flag'] #columns\n",
    " \n",
    "        array_frame[i,:]=df_input.loc[n,:]\n",
    "    \n",
    "    \n",
    "    df_save = pd.DataFrame(array_frame)\n",
    "    df_save.columns = ['lon','lat','ue','un','se','sn','corr','flag']\n",
    "    df_save['flag2'] = np.ones((len(df_save),1))*int(20000)\n",
    "    df_save=df_save[['lon','lat','ue','un','se','sn','corr','flag2','flag']]\n",
    "    df_save=df_save[(df_save['ue']!=0) & (df_save['un']!=0)]\n",
    "    df_save['corr']=df_save['corr']/10\n",
    "    df_save=df_save.reset_index(drop=True)\n",
    "    savefile = \"fnl_\"+str(n+1)+\".dat\" #output file = fnl_\"$n\".dat\n",
    "    df_save.to_csv(savefile ,header=None, index=None ,float_format='%g', sep=' ')         \n",
    "\n",
    "      \n",
    "    \n"
   ]
  },
  {
   "cell_type": "code",
   "execution_count": null,
   "metadata": {},
   "outputs": [],
   "source": []
  }
 ],
 "metadata": {
  "kernelspec": {
   "display_name": "Python 3",
   "language": "python",
   "name": "python3"
  },
  "language_info": {
   "codemirror_mode": {
    "name": "ipython",
    "version": 3
   },
   "file_extension": ".py",
   "mimetype": "text/x-python",
   "name": "python",
   "nbconvert_exporter": "python",
   "pygments_lexer": "ipython3",
   "version": "3.8.3"
  }
 },
 "nbformat": 4,
 "nbformat_minor": 4
}
