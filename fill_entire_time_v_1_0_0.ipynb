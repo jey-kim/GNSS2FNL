{
 "cells": [
  {
   "cell_type": "markdown",
   "metadata": {},
   "source": [
    "<img src=\"Figs/GEOS_Logo.pdf\" width=\"500\" />"
   ]
  },
  {
   "cell_type": "markdown",
   "metadata": {},
   "source": [
    "\n",
    "# Step **7** of **`G2FNL`**: <font color=blue>\"fill_entire_time.ipynb\"</font>\n",
    "#### Oct 2, 2021  <font color=red>(v. 1.0.0)</font>\n",
    "##### Jeonghyeop Kim (jeonghyeop.kim@gmail.com)\n",
    "\n",
    "> input files: **`stepCorrected_i\"`**, **`time_vector.dat`**, and **`station_list_full.dat`** \\\n",
    "> output files: **`zeroFilled_i`** \n",
    "\n",
    "0. This code is a part of GPS2FNL process \n",
    "1. This code will use `time_vector.dat` \n",
    "2. It will make a matrix with the time vector as the first column of it. \n",
    "3. If no data is available for a day, this code will fill up zero values. \n"
   ]
  },
  {
   "cell_type": "markdown",
   "metadata": {},
   "source": [
    "<div class=\"alert alert-danger\">\n",
    "Do NOT run this code twice without re-starting the kernel\n",
    "</div>"
   ]
  },
  {
   "cell_type": "code",
   "execution_count": 1,
   "metadata": {},
   "outputs": [],
   "source": [
    "# 1. import modules\n",
    "import numpy as np\n",
    "import pandas as pd\n",
    "#pd.__version__\n",
    "import os"
   ]
  },
  {
   "cell_type": "code",
   "execution_count": 2,
   "metadata": {},
   "outputs": [
    {
     "data": {
      "text/plain": [
       "'/Users/jkim/main/GPS2FNL_2021/summer_project_2021'"
      ]
     },
     "execution_count": 2,
     "metadata": {},
     "output_type": "execute_result"
    }
   ],
   "source": [
    "current_dir=os.getcwd()\n",
    "os.getcwd()"
   ]
  },
  {
   "cell_type": "code",
   "execution_count": 3,
   "metadata": {},
   "outputs": [],
   "source": [
    "# 2. read a file for the time vector\n",
    "filename = 'time_vector.dat'\n",
    "time_vec = pd.read_csv(filename,sep=' ',header=None)\n",
    "time_vec.columns = ['date']\n",
    "\n",
    "\n",
    "list_full = \"station_list_full.dat\"\n",
    "df_list=pd.read_csv(list_full, header=None)\n",
    "N_list = len(df_list) "
   ]
  },
  {
   "cell_type": "code",
   "execution_count": 4,
   "metadata": {},
   "outputs": [
    {
     "data": {
      "text/plain": [
       "'/Users/jkim/main/GPS2FNL_2021/summer_project_2021/data/processing'"
      ]
     },
     "execution_count": 4,
     "metadata": {},
     "output_type": "execute_result"
    }
   ],
   "source": [
    "processing_dir = os.path.join(current_dir, 'data', 'processing')\n",
    "os.chdir(processing_dir) # cp to processing directory\n",
    "os.getcwd()"
   ]
  },
  {
   "cell_type": "code",
   "execution_count": 5,
   "metadata": {},
   "outputs": [],
   "source": [
    "# # Make zeros matrix template! \n",
    "# zeros_np_array=np.zeros((len(time_vec),10))\n",
    "# df_zeros = pd.DataFrame(zeros_np_array, columns = ['lon','lat','ue','un','uz','se','sn','sz','corr_en','flag'])\n",
    "# template_frame = [time_vec, df_zeros]\n",
    "\n",
    "# #This DF is the template\n",
    "# df_save_template = pd.concat(template_frame, axis=1) "
   ]
  },
  {
   "cell_type": "markdown",
   "metadata": {},
   "source": [
    "# NOTE: \n",
    "**The cell above is not needed if one uses df.merge in-built function** \\\n",
    "**see this stackoverflow thread: [click](https://stackoverflow.com/questions/53645882/pandas-merging-101)** \\\n",
    "`pd.merge 101` "
   ]
  },
  {
   "cell_type": "code",
   "execution_count": 6,
   "metadata": {},
   "outputs": [],
   "source": [
    "for i in range(0,N_list):  #range(N_list)\n",
    "\n",
    "    inputfile = \"stepCorrected_\"+str(i+1) #input_file = stepCorrected_\"$i\"\n",
    "    df_input=pd.read_csv(inputfile,sep=' ',header=None) \n",
    "    df_input.columns = ['date','lon','lat','ue','un','uz','se','sn','sz','corr_en','flag'] #columns\n",
    "\n",
    "    df_save=time_vec.merge(df_input, on='date', how='left')\n",
    "    # MERGE the two data frames based on 'date' column. \n",
    "    # ** time_vec (full time period) is the left dF.\n",
    "    # ** df_input (stepCorrected_i) is the right dF. \n",
    "    # how='left' means that \n",
    "    # MERGE them together filling all empty elements of df_input (right), \n",
    "    # comparing with time_vector (left), with NaN\n",
    "    \n",
    "    df_save=df_save.fillna(float(0))\n",
    "    savefile = \"zeroFilled_\"+str(i+1) #output file = zeroFilled_\"$i\"\n",
    "    df_save.to_csv(savefile ,header=None, index=None ,float_format='%.6f', sep=' ') #SAVE AS THEY ARE"
   ]
  },
  {
   "cell_type": "code",
   "execution_count": null,
   "metadata": {},
   "outputs": [],
   "source": []
  }
 ],
 "metadata": {
  "kernelspec": {
   "display_name": "Python 3",
   "language": "python",
   "name": "python3"
  },
  "language_info": {
   "codemirror_mode": {
    "name": "ipython",
    "version": 3
   },
   "file_extension": ".py",
   "mimetype": "text/x-python",
   "name": "python",
   "nbconvert_exporter": "python",
   "pygments_lexer": "ipython3",
   "version": "3.8.3"
  }
 },
 "nbformat": 4,
 "nbformat_minor": 4
}
