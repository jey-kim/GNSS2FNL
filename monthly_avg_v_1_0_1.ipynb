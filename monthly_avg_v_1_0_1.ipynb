{
 "cells": [
  {
   "cell_type": "markdown",
   "metadata": {},
   "source": [
    "<img src=\"Figs/GEOS_Logo.pdf\" width=\"500\" />"
   ]
  },
  {
   "cell_type": "markdown",
   "metadata": {},
   "source": [
    "\n",
    "# Step **10** of **`G2FNL`**: <font color=blue>\"monthly_avg.ipynb\"</font>\n",
    "#### Oct 20, 2021  <font color=red>(v. 1.0.1)</font>\n",
    "##### Jeonghyeop Kim (jeonghyeop.kim@gmail.com)\n",
    "\n",
    "> input files: **`outlierRemoved_i\"`**, **`days_per_month.dat`**, and **`station_list_full.dat`** \\\n",
    "> output files: **`monthlyAvg_i`** \n",
    "\n",
    "0. This code is a part of GPS2FNL process.\n",
    "1. It will calculate monthly average position.\n",
    "2. If the number of position estimates for a month is smaller than 6, the previous code already remove the position values. \n",
    "3. Simply take monthly average values. \n"
   ]
  },
  {
   "cell_type": "markdown",
   "metadata": {},
   "source": [
    "<div class=\"alert alert-danger\">\n",
    "Do NOT run this code twice without re-starting the kernel\n",
    "</div>"
   ]
  },
  {
   "cell_type": "code",
   "execution_count": null,
   "metadata": {},
   "outputs": [],
   "source": [
    "# 1. import modules\n",
    "import numpy as np\n",
    "import pandas as pd\n",
    "#pd.__version__\n",
    "import os"
   ]
  },
  {
   "cell_type": "code",
   "execution_count": null,
   "metadata": {},
   "outputs": [],
   "source": [
    "current_dir=os.getcwd()\n",
    "os.getcwd()"
   ]
  },
  {
   "cell_type": "code",
   "execution_count": null,
   "metadata": {},
   "outputs": [],
   "source": [
    "# 2. read a file for the time vector\n",
    "filename = 'days_per_month.dat'\n",
    "time_vec = pd.read_csv(filename,sep=' ',header=None)\n",
    "time_vec.columns = ['daysMonth']\n",
    "\n",
    "\n",
    "list_full = \"station_list_full.dat\"\n",
    "df_list=pd.read_csv(list_full, header=None)\n",
    "df_list.columns = ['stID']\n",
    "N_list = len(df_list) "
   ]
  },
  {
   "cell_type": "code",
   "execution_count": null,
   "metadata": {},
   "outputs": [],
   "source": [
    "processing_dir = os.path.join(current_dir, 'data', 'processing')\n",
    "os.chdir(processing_dir) # cp to processing directory\n",
    "os.getcwd()"
   ]
  },
  {
   "cell_type": "code",
   "execution_count": null,
   "metadata": {},
   "outputs": [],
   "source": [
    "for i in range(N_list):\n",
    "\n",
    "    inputfile = \"outlierRemoved_\"+str(i+1) #input_file = outlierRemoved_\"$i\"\n",
    "    df_input=pd.read_csv(inputfile,sep=' ',header=None)  \n",
    "    df_input.columns = ['date','lon','lat','ue','un','uz','se','sn','sz','corr_en','flag'] #columns\n",
    "    \n",
    "    df_coor = df_input[(df_input['lon']!=0) & df_input['lat']!=0]\n",
    "    df_coor = df_coor.reset_index(drop=True)\n",
    "    lon=df_coor.iloc[0,1]\n",
    "    lat=df_coor.iloc[0,2]\n",
    "    \n",
    "    end = 0\n",
    "    \n",
    "    \n",
    "    avg_ue_total = []\n",
    "    avg_un_total = []\n",
    "    avg_uz_total = []\n",
    "    se_propagated_total = []\n",
    "    sn_propagated_total = []\n",
    "    sz_propagated_total = []\n",
    "    corr_total = []\n",
    "    flag_total = []\n",
    "    \n",
    "    for j in range(len(time_vec)): \n",
    "        start = end\n",
    "        end = end + time_vec.daysMonth.values[j]\n",
    "        disp_3D = df_input.iloc[start:end,3:6] \n",
    "        disp_3D = disp_3D[(disp_3D['ue']!=0) & (disp_3D['un']!=0) & (disp_3D['un']!=0)]\n",
    "\n",
    "        error_3D = df_input.iloc[start:end,6:9] \n",
    "        error_3D = error_3D[(error_3D['se']!=0) & (error_3D['sn']!=0) & (error_3D['sn']!=0)]\n",
    "\n",
    "        \n",
    "        \n",
    "        if len(disp_3D)!=0:\n",
    "            avg_ue=disp_3D.mean().values[0]\n",
    "            avg_un=disp_3D.mean().values[1]\n",
    "            avg_uz=disp_3D.mean().values[2]\n",
    "        \n",
    "            #error propagation \n",
    "            var_3D = error_3D**2\n",
    "            N = len(var_3D)\n",
    "            \n",
    "            \n",
    "            sum_var_e=var_3D.sum()[0]\n",
    "            sum_var_e_sqrt = np.sqrt(sum_var_e)\n",
    "            se_propagated=sum_var_e_sqrt/N\n",
    "            \n",
    "            sum_var_n=var_3D.sum()[1]\n",
    "            sum_var_n_sqrt = np.sqrt(sum_var_n)\n",
    "            sn_propagated=sum_var_n_sqrt/N\n",
    "            \n",
    "            sum_var_z=var_3D.sum()[2]\n",
    "            sum_var_z_sqrt = np.sqrt(sum_var_z)\n",
    "            sz_propagated=sum_var_z_sqrt/N\n",
    "\n",
    "            corr=0.5 # arbitrarily chosen.\n",
    "            flag=1\n",
    "            \n",
    "            \n",
    "        else:\n",
    "            avg_ue = 0 \n",
    "            avg_un = 0\n",
    "            avg_uz = 0 \n",
    "            se_propagated=0 \n",
    "            sn_propagated=0\n",
    "            sz_propagated=0\n",
    "            corr=0\n",
    "            flag=0\n",
    "            \n",
    "        avg_ue_total.append(avg_ue)\n",
    "        avg_un_total.append(avg_un)\n",
    "        avg_uz_total.append(avg_uz)\n",
    "        se_propagated_total.append(se_propagated)\n",
    "        sn_propagated_total.append(sn_propagated)\n",
    "        sz_propagated_total.append(sz_propagated)\n",
    "        corr_total.append(corr)\n",
    "        flag_total.append(flag)\n",
    "        \n",
    "        \n",
    "    dict = {'ue': avg_ue_total, \\\n",
    "            'un': avg_un_total, \\\n",
    "            'uz': avg_uz_total, \\\n",
    "            'se': se_propagated_total, \\\n",
    "            'sn': sn_propagated_total, \\\n",
    "            'sz': sz_propagated_total, \\\n",
    "            'corr': corr_total, \\\n",
    "            'flag': flag_total}\n",
    "  \n",
    "    df_save = pd.DataFrame(dict)\n",
    "    df_save['lon']=np.ones((len(df_save),1))*lon\n",
    "    df_save['lat']=np.ones((len(df_save),1))*lat\n",
    "    \n",
    "    df_save = df_save[['lon','lat','ue','un','uz','se','sn','sz','corr','flag']]\n",
    "    df_save = df_save.reset_index(drop=True)\n",
    "    savefile = \"monthlyAvg_\"+str(i+1) #output file = monthlyAvg_\"$i\"\n",
    "    df_save.to_csv(savefile ,header=None, index=None ,float_format='%.6f', sep=' ') "
   ]
  },
  {
   "cell_type": "code",
   "execution_count": null,
   "metadata": {},
   "outputs": [],
   "source": []
  },
  {
   "cell_type": "code",
   "execution_count": null,
   "metadata": {},
   "outputs": [],
   "source": []
  }
 ],
 "metadata": {
  "kernelspec": {
   "display_name": "Python 3",
   "language": "python",
   "name": "python3"
  },
  "language_info": {
   "codemirror_mode": {
    "name": "ipython",
    "version": 3
   },
   "file_extension": ".py",
   "mimetype": "text/x-python",
   "name": "python",
   "nbconvert_exporter": "python",
   "pygments_lexer": "ipython3",
   "version": "3.8.3"
  }
 },
 "nbformat": 4,
 "nbformat_minor": 4
}
