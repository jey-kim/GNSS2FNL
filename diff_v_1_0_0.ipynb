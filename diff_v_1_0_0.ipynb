{
 "cells": [
  {
   "cell_type": "markdown",
   "metadata": {},
   "source": [
    "<img src=\"Figs/GEOS_Logo.pdf\" width=\"500\" />"
   ]
  },
  {
   "cell_type": "markdown",
   "metadata": {},
   "source": [
    "\n",
    "# Step **12** of **`G2FNL`**: <font color=blue>\"diff.ipynb\"</font>\n",
    "#### Oct 23, 2021  <font color=red>(v. 1.0.0)</font>\n",
    "##### Jeonghyeop Kim (jeonghyeop.kim@gmail.com)\n",
    "\n",
    "> input files: **`elasticOnly_i`**, **`time_vector.dat`**, and **`station_list_full.dat`** \\\n",
    "> output files: **`displacement_i`**, **`displacement_time_label.dat`**\n",
    "\n",
    "0. This code is a part of GPS2FNL process.\n",
    "1. It will calculate **4-month** displacements \n",
    "2. 6-month displacements can be obtained as well. \n",
    "3. **`displacement_time_label.dat`** is for the time label (the last month of the displacements) \n"
   ]
  },
  {
   "cell_type": "markdown",
   "metadata": {},
   "source": [
    "<div class=\"alert alert-danger\">\n",
    "Do NOT run this code twice without re-starting the kernel\n",
    "</div>"
   ]
  },
  {
   "cell_type": "code",
   "execution_count": 1,
   "metadata": {},
   "outputs": [],
   "source": [
    "# 1. import modules\n",
    "import numpy as np\n",
    "import pandas as pd\n",
    "import os"
   ]
  },
  {
   "cell_type": "code",
   "execution_count": 2,
   "metadata": {},
   "outputs": [],
   "source": [
    "#displacements over how many months?\n",
    "mo = 4"
   ]
  },
  {
   "cell_type": "code",
   "execution_count": 3,
   "metadata": {},
   "outputs": [
    {
     "data": {
      "text/plain": [
       "'/Users/jkim/main/GPS2FNL_2021/summer_project_2021'"
      ]
     },
     "execution_count": 3,
     "metadata": {},
     "output_type": "execute_result"
    }
   ],
   "source": [
    "current_dir=os.getcwd()\n",
    "os.getcwd()"
   ]
  },
  {
   "cell_type": "code",
   "execution_count": 4,
   "metadata": {},
   "outputs": [],
   "source": [
    "# Read a 'time_vector.dat' and get a label \n",
    "filename = 'time_vector.dat'\n",
    "time_vec = pd.read_csv(filename,sep=' ',header=None)\n",
    "time_vec.columns = ['time_vector']\n",
    "date_old = time_vec.time_vector.tolist() # A DataFrame to a list\n",
    "date_new = pd.to_datetime(date_old, format='%Y%m%d').strftime('%Y%m') # convert date format\n",
    "time_vec.loc[:,'new_time_vector'] = date_new # replaces with the new date in YYYYMM\n",
    "time_vec.loc[:,'new_time_vector']=time_vec.loc[:,'new_time_vector'].astype(int) #str to int\n",
    "df_new_time = time_vec[['new_time_vector']].reset_index(drop=True)\n",
    "array_month_label = df_new_time['new_time_vector'].unique()\n",
    "\n",
    "\n",
    "array_diff_label = array_month_label[mo:]\n",
    "df_diff_label = pd.DataFrame(array_diff_label)\n",
    "df_diff_label.columns=['label'] \n",
    "df_diff_label.to_csv(\"displacement_time_label.dat\" ,header=None, index=None ,float_format='%g')\n",
    "\n",
    "list_full = \"station_list_full.dat\"\n",
    "df_list=pd.read_csv(list_full, header=None)\n",
    "df_list.columns = ['stID']\n",
    "N_list = len(df_list) "
   ]
  },
  {
   "cell_type": "code",
   "execution_count": 5,
   "metadata": {},
   "outputs": [
    {
     "data": {
      "text/plain": [
       "'/Users/jkim/main/GPS2FNL_2021/summer_project_2021/data/processing'"
      ]
     },
     "execution_count": 5,
     "metadata": {},
     "output_type": "execute_result"
    }
   ],
   "source": [
    "processing_dir = os.path.join(current_dir, 'data', 'processing')\n",
    "os.chdir(processing_dir) # cp to processing directory\n",
    "os.getcwd()"
   ]
  },
  {
   "cell_type": "code",
   "execution_count": 6,
   "metadata": {},
   "outputs": [],
   "source": [
    "for i in range(N_list):\n",
    "\n",
    "    inputfile = \"elasticOnly_\"+str(i+1) #input_file = elasticOnly_\"$i\"\n",
    "    df_input=pd.read_csv(inputfile,sep=' ',header=None)  \n",
    "    df_input.columns = ['lon','lat','ue','un','uz','se','sn','sz','corr_en','flag'] #columns\n",
    "    \n",
    "    if df_input.ue.sum()==0: # all the values are 0 \n",
    "        df_save = df_input.iloc[4:,0:8].reset_index(drop=True)\n",
    "        savefile = \"displacement_\"+str(i+1) #output file = displacement_\"$i\"\n",
    "        df_save.to_csv(savefile ,header=None, index=None ,float_format='%.6f', sep=' ')\n",
    "        continue\n",
    "        \n",
    "        \n",
    "   \n",
    "    lon=df_input.iloc[0,0]\n",
    "    lat=df_input.iloc[0,1]\n",
    "\n",
    "    array_frame = np.zeros((len(df_input)-mo,8))\n",
    "    \n",
    "    for diff in range(len(df_input)-mo):\n",
    "    #mo = 4 or 6. This variable is defined in the begining of this code.\n",
    "        ini = diff #initial position\n",
    "        fi = diff+mo #final position\n",
    "        #print(\"displacement between %i and %i\" %(fi, ini))\n",
    "        if df_input.ue[fi]!=0 and df_input.ue[ini]!=0 and df_input.un[ini]!=0 and df_input.un[fi]!=0:\n",
    "            \n",
    "            ue_diff = df_input.ue[fi]-df_input.ue[ini]\n",
    "            un_diff = df_input.un[fi]-df_input.un[ini]\n",
    "            \n",
    "            se_diff = np.sqrt(df_input.se[fi]**2+df_input.se[ini]**2)\n",
    "            sn_diff = np.sqrt(df_input.sn[fi]**2+df_input.sn[ini]**2)\n",
    "            \n",
    "            \n",
    "            array_frame[diff,0]=lon\n",
    "            array_frame[diff,1]=lat\n",
    "            array_frame[diff,2]=ue_diff\n",
    "            array_frame[diff,3]=un_diff\n",
    "            array_frame[diff,4]=se_diff\n",
    "            array_frame[diff,5]=sn_diff\n",
    "            array_frame[diff,6]=0.5\n",
    "            array_frame[diff,7]=1\n",
    "      \n",
    "    \n",
    "    df_save = pd.DataFrame(array_frame)\n",
    "    df_save.columns = ['lon','lat','ue','un','se','sn','corr','flag']\n",
    "\n",
    "    savefile = \"displacement_\"+str(i+1) #output file = displacement_\"$i\"\n",
    "    df_save.to_csv(savefile ,header=None, index=None ,float_format='%.6f', sep=' ') "
   ]
  },
  {
   "cell_type": "code",
   "execution_count": null,
   "metadata": {},
   "outputs": [],
   "source": []
  },
  {
   "cell_type": "code",
   "execution_count": null,
   "metadata": {},
   "outputs": [],
   "source": []
  }
 ],
 "metadata": {
  "kernelspec": {
   "display_name": "Python 3",
   "language": "python",
   "name": "python3"
  },
  "language_info": {
   "codemirror_mode": {
    "name": "ipython",
    "version": 3
   },
   "file_extension": ".py",
   "mimetype": "text/x-python",
   "name": "python",
   "nbconvert_exporter": "python",
   "pygments_lexer": "ipython3",
   "version": "3.8.3"
  }
 },
 "nbformat": 4,
 "nbformat_minor": 4
}
