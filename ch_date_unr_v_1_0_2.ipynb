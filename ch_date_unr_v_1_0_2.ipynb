{
 "cells": [
  {
   "cell_type": "markdown",
   "metadata": {},
   "source": [
    "<img src=\"GEOS_Logo.pdf\" width=\"500\" />"
   ]
  },
  {
   "cell_type": "markdown",
   "metadata": {},
   "source": [
    "\n",
    "# Step **3** of **`G2FNL`**: <font color=blue>\"ch_date_unr.ipynb\"</font>\n",
    "#### Oct 2, 2021  <font color=red>(v. 1.0.2)</font>\n",
    "##### Jeonghyeop Kim (jeonghyeop.kim@gmail.com)\n",
    "\n",
    "> input files: **`pre_i\"`** and **`coordinate_list_full.dat`** \\\n",
    "> output files: **`newDate_i`** \n",
    "\n",
    "0. This code is a part of GPS2FNL process (old name was `ch_date_unr.sh`)\n",
    "1. The original code _ch_date_unr.sh_ is extremely slow.\n",
    "2. This new code **100 times faster** than the original code. \n",
    "3. This new code also adds longitude and latitude information \n",
    "\n",
    "> The date arrays in 'YYMMMDD' with new date arrays in 'YYYYMMDD' format.\\\n",
    "> This code uses three python modules:\n",
    "> - numpy \n",
    "> - datetime \n",
    "> - `pandas` \n",
    ">><font color=red>A tutorial for pandas is available at: </font> [click](https://www.youtube.com/watch?v=e60ItwlZTKM)\n",
    "\n",
    "\n"
   ]
  },
  {
   "cell_type": "markdown",
   "metadata": {},
   "source": [
    "<div class=\"alert alert-danger\">\n",
    "Do NOT run this code twice without re-starting the kernel\n",
    "</div>"
   ]
  },
  {
   "cell_type": "code",
   "execution_count": 1,
   "metadata": {},
   "outputs": [],
   "source": [
    "# 1. import modules\n",
    "import numpy as np\n",
    "from datetime import datetime\n",
    "import pandas as pd\n",
    "#pd.__version__\n",
    "import os"
   ]
  },
  {
   "cell_type": "code",
   "execution_count": 2,
   "metadata": {},
   "outputs": [
    {
     "data": {
      "text/plain": [
       "'/Users/jkim/main/GPS2FNL_2021/summer_project_2021'"
      ]
     },
     "execution_count": 2,
     "metadata": {},
     "output_type": "execute_result"
    }
   ],
   "source": [
    "current_dir=os.getcwd()\n",
    "os.getcwd()"
   ]
  },
  {
   "cell_type": "code",
   "execution_count": 3,
   "metadata": {},
   "outputs": [],
   "source": [
    "# 2. read a file for GPS station coordinates\n",
    "filename = 'coordinate_list_full.dat'\n",
    "coordi = pd.read_csv(filename,sep=' ',header=None)\n",
    "coordi.columns = ['lon','lat']"
   ]
  },
  {
   "cell_type": "code",
   "execution_count": 4,
   "metadata": {},
   "outputs": [
    {
     "data": {
      "text/plain": [
       "'/Users/jkim/main/GPS2FNL_2021/summer_project_2021/data/processing'"
      ]
     },
     "execution_count": 4,
     "metadata": {},
     "output_type": "execute_result"
    }
   ],
   "source": [
    "processing_dir = os.path.join(current_dir, 'data', 'processing')\n",
    "os.chdir(processing_dir) # cp to processing directory\n",
    "os.getcwd()"
   ]
  },
  {
   "cell_type": "code",
   "execution_count": 5,
   "metadata": {},
   "outputs": [],
   "source": [
    "N=len(coordi)"
   ]
  },
  {
   "cell_type": "code",
   "execution_count": 6,
   "metadata": {},
   "outputs": [],
   "source": [
    "# 3-1. YYMMMDD -> YYYYMMDD\n",
    "# 3-2. Add lon, lat columns\n",
    "\n",
    "for i in range(0,N): # i in range(0,how many files?)\n",
    "\n",
    "    inputfile = \"pre_\"+str(i+1) #input_file = pre_\"$i\"\n",
    "    df_input=pd.read_csv(inputfile,sep=' ',header=None)  #read pre_\"$i\" \n",
    "    df_input.columns = ['time','ue','un','uz','se','sn','sz','corr_en','flag'] #columns\n",
    "    date_old = df_input.time.tolist() # A DataFrame to a list\n",
    "    date_new = pd.to_datetime(date_old, format='%y%b%d').strftime('%Y%m%d') # convert date format\n",
    "    df_input.loc[:,'time'] = date_new # replaces with the new date  in YYYYMMDD\n",
    "\n",
    "    \n",
    "    lon=coordi.loc[i,['lon']]\n",
    "    lat=coordi.loc[i,['lat']]\n",
    "\n",
    "    row_number=len(date_new)\n",
    "    lon_float=float(lon) # df -> float\n",
    "    lat_float=float(lat) # df -> float\n",
    "    lon_vector=lon_float*np.ones((row_number, 1), dtype=np.int32)\n",
    "    lat_vector=lat_float*np.ones((row_number, 1), dtype=np.int32)\n",
    "    \n",
    "    \n",
    "    df_input.loc[:,'lon'] = lon_vector # add lon vector\n",
    "    df_input.loc[:,'lat'] = lat_vector # add lat vector\n",
    "    df_input.loc[:,'flag'] = df_input.loc[:,'flag'] \n",
    "\n",
    "    df_input = df_input[['time', 'lon', 'lat', 'ue', 'un', 'uz', 'se', 'sn', 'sz', 'corr_en', 'flag']]\n",
    "    #Change the order of the columns lon and lat. \n",
    "    \n",
    "    outputfile = \"newDate_\"+str(i+1) #output file = newDate_i\n",
    "    df_input.to_csv(outputfile ,header=None, index=None,sep=' ',float_format='%.6f')"
   ]
  },
  {
   "cell_type": "code",
   "execution_count": null,
   "metadata": {},
   "outputs": [],
   "source": []
  }
 ],
 "metadata": {
  "kernelspec": {
   "display_name": "Python 3",
   "language": "python",
   "name": "python3"
  },
  "language_info": {
   "codemirror_mode": {
    "name": "ipython",
    "version": 3
   },
   "file_extension": ".py",
   "mimetype": "text/x-python",
   "name": "python",
   "nbconvert_exporter": "python",
   "pygments_lexer": "ipython3",
   "version": "3.8.3"
  }
 },
 "nbformat": 4,
 "nbformat_minor": 4
}
