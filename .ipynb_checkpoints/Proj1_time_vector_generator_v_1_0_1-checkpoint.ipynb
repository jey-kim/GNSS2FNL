{
 "cells": [
  {
   "cell_type": "markdown",
   "metadata": {},
   "source": [
    "<img src=\"Figs/GEOS_Logo.pdf\" width=\"500\"/> "
   ]
  },
  {
   "cell_type": "markdown",
   "metadata": {},
   "source": [
    "\n",
    "# Step **4** of **`G2FNL`**: <font color=blue>\"time_vector_generator.ipynb\"</font>\n",
    "#### Sep 13, 2021  <font color=red>(v. 1.0.1)</font> \n",
    "##### Jeonghyeop Kim (jeonghyeop.kim@gmail.com)\n",
    "\n",
    "> input prompt: **`yes`** or **`no`** \\\n",
    "> output files: **`time_vector.dat` & `days_per_month.dat`**\n",
    "\n",
    "0. This code is a part of G2FNL process (Project1: GNSS to FNL)\n",
    "1. This code makes a consecutive time vector from 2006/1/1 to the last date of the end month (`time_vector.dat`).\n",
    "2. Even though the start month is January 2006, the first solution will be always January 2007. \n",
    "3. The end month can be specified by users. The default end month is the previous month from TODAY.\n",
    "4. This code also generates `days_per_month.dat`,where each of the rows indicates the number of days of all months in the analysis time period in order. \n",
    "\n"
   ]
  },
  {
   "cell_type": "code",
   "execution_count": 1,
   "metadata": {},
   "outputs": [],
   "source": [
    "# 1. import modules\n",
    "import numpy as np\n",
    "import datetime as datetime\n",
    "import calendar\n",
    "import pandas as pd\n",
    "import os\n",
    "#from calendar import monthrange\n",
    "#pd.__version__"
   ]
  },
  {
   "cell_type": "code",
   "execution_count": 2,
   "metadata": {},
   "outputs": [
    {
     "data": {
      "text/plain": [
       "'/Users/jkim/main/GPS2FNL_2021/summer_project_2021'"
      ]
     },
     "execution_count": 2,
     "metadata": {},
     "output_type": "execute_result"
    }
   ],
   "source": [
    "os.getcwd()"
   ]
  },
  {
   "cell_type": "code",
   "execution_count": 3,
   "metadata": {},
   "outputs": [
    {
     "name": "stdout",
     "output_type": "stream",
     "text": [
      " > The initial month of this analysis is Jan. 2007.\n",
      " >> You can (1) specify the end month of your analysis\n",
      " >>> or (2) just use the default end month (last month from today).\n",
      " >>>> This algorithm does **NOT** produce solutions for the current month.\n",
      " >>>>> Final GNSS position estimates are usually available after about 14 days.\n",
      " >>>>>> {This algorithm uses GNSS stations with 'final orbits' (Two week latency).}\n",
      " \n"
     ]
    },
    {
     "name": "stdin",
     "output_type": "stream",
     "text": [
      " Would you like to specify the end month of your analysis? [yes/no] no\n"
     ]
    },
    {
     "name": "stdout",
     "output_type": "stream",
     "text": [
      " \n",
      "**The end month of your analysis will be 202108\n"
     ]
    }
   ],
   "source": [
    "# While the user input is not either yes or no, this loop will repeat\n",
    "date_initial = pd.to_datetime(20060101, format='%Y%m%d')\n",
    "\n",
    "while True:      \n",
    "    print(\" > The initial month of this analysis is Jan. 2006.\")\n",
    "    print(\" >> You can (1) specify the end month of your analysis\")\n",
    "    print(\" >>> or (2) just use the default end month (last month from today).\")\n",
    "    print(\" >>>> This algorithm does **NOT** produce solutions for the current month.\")\n",
    "    print(\" >>>>> Final GNSS position estimates are usually available after about 14 days.\")\n",
    "    print(\" >>>>>> {This algorithm uses GNSS stations with 'final orbits' (Two week latency).}\")\n",
    "    print(\" \")\n",
    "    YESorNO=input(\" Would you like to specify the end month of your analysis? [yes/no]\")\n",
    "    YESorNO=YESorNO.lower()\n",
    "    \n",
    "    while YESorNO not in (\"yes\",\"no\"):\n",
    "        print(\"*** Please type 'yes' or 'no' ***\")\n",
    "        YESorNO=input(\" Would you like to specify the end month of your analysis? [yes/no]\")\n",
    "        YESorNO=YESorNO.lower()\n",
    "        \n",
    "    if YESorNO == \"no\" or YESorNO == \"yes\":\n",
    "        break \n",
    "        #break the while loop\n",
    "         \n",
    "      \n",
    "    \n",
    "#If yes -> A specific final month (up to its last date)\n",
    "#If no ->  The last date of the previous month from today is the final date\n",
    "\n",
    "\n",
    "# YES!\n",
    "if YESorNO.startswith('y'): \n",
    "    print(\" \")\n",
    "    print(\" How would you like to set the end month of your analysis (type YYYYMM)? : \")\n",
    "    last_yearmonth=input()\n",
    "    date_target_adjusting = pd.to_datetime(last_yearmonth, format='%Y%m').strftime('%Y%m')\n",
    "    year_target = date_target_adjusting[0:4]\n",
    "    month_target = date_target_adjusting[4:6]\n",
    "    \n",
    "    year_target_int=int(year_target)\n",
    "    month_target_int=int(month_target)\n",
    "    date_target_int=calendar.monthrange(year_target_int, month_target_int)[1]\n",
    "    date_target = str(date_target_int)\n",
    "    last_date = year_target+month_target+date_target\n",
    "    \n",
    "    print(\" \")\n",
    "    print(\"**The end month of your analysis will be %s\" %last_date[0:6])  \n",
    "    \n",
    "# NO!\n",
    "else: \n",
    "    \n",
    "    today=datetime.datetime.today()\n",
    "    date_target_today_adjusting = pd.to_datetime(today).strftime('%Y%m%d')\n",
    "    year_target_today = date_target_today_adjusting[0:4]\n",
    "    month_target_today = date_target_today_adjusting[4:6]\n",
    "    year_target_today_int = int(year_target_today)\n",
    "    month_target_today_int = int(month_target_today)\n",
    "    \n",
    "    # The end month will be the previous month from today\n",
    "    if month_target_today_int == 1: #Janary\n",
    "        year_target_today_int = year_target_today_int -1 #year -1\n",
    "        month_target_today_int = 12 #December\n",
    "    else:\n",
    "        month_target_today_int = month_target_today_int-1 #month-1     \n",
    "    \n",
    "    date_target_today_int=calendar.monthrange(year_target_today_int, month_target_today_int)[1]\n",
    "    \n",
    "    date_target_today_new = str(date_target_today_int)\n",
    "    year_target_today_new = str(year_target_today_int)\n",
    "    \n",
    "    \n",
    "    # {1 2 ... 9 10 11 12} = {01 02 ... 09 10 11 12}\n",
    "    if month_target_today_int < 10:\n",
    "        month_target_today_new = \"0\"+str(month_target_today_int)\n",
    "    else:\n",
    "        month_target_today_new = str(month_target_today_int)\n",
    "        \n",
    "            \n",
    "    last_date = year_target_today_new+month_target_today_new+date_target_today_new\n",
    "    print(\" \")\n",
    "    print(\"**The end month of your analysis will be %s\" %last_date[0:6])\n",
    "    "
   ]
  },
  {
   "cell_type": "code",
   "execution_count": 4,
   "metadata": {},
   "outputs": [],
   "source": [
    "date_final = pd.to_datetime(last_date, format='%Y%m%d')\n",
    "#This gives the YYYYMMDD, where YYYYDD is your end month; DD is the last date of your end month\n",
    "\n",
    "time_vector_list=pd.date_range(start=date_initial,end=date_final).strftime('%Y%m%d').tolist()\n",
    "#time vector list starts from 1/1/2006 and ends YYYYMMDD.  "
   ]
  },
  {
   "cell_type": "code",
   "execution_count": 5,
   "metadata": {},
   "outputs": [],
   "source": [
    "# SAVE 'time_vector.dat'\n",
    "with open('time_vector.dat', 'w') as filehandle:\n",
    "    for listitem in time_vector_list:\n",
    "        filehandle.write('%s\\n' % listitem)"
   ]
  },
  {
   "cell_type": "code",
   "execution_count": 6,
   "metadata": {},
   "outputs": [],
   "source": [
    "df_year=np.array(pd.date_range(start=date_initial,end=date_final).strftime('%Y'))\n",
    "#year nparray\n",
    "df_month=np.array(pd.date_range(start=date_initial,end=date_final).strftime('%m'))\n",
    "#month nparray\n",
    "\n",
    "df_year_month = pd.DataFrame(index = range(len(df_year))) \n",
    "# A blank dataFrame (n-dim. n = length of the nparrays)\n",
    "\n",
    "# Data Frame \n",
    "df_year_month['year']=df_year\n",
    "df_year_month['month']=df_month\n",
    "\n",
    "howManyDatesPerMonths = df_year_month.groupby(['year','month']).size()\n",
    "#group by each of all 'YYYYMM'\n",
    "#This will give how many days for each YYYYMM"
   ]
  },
  {
   "cell_type": "code",
   "execution_count": 7,
   "metadata": {},
   "outputs": [],
   "source": [
    "# SAVE 'days_per_month.dat'\n",
    "howManyDatesPerMonths.to_csv('days_per_month.dat',header=None, index=None,sep=' ',float_format='%g')"
   ]
  },
  {
   "cell_type": "code",
   "execution_count": null,
   "metadata": {},
   "outputs": [],
   "source": []
  }
 ],
 "metadata": {
  "kernelspec": {
   "display_name": "Python 3",
   "language": "python",
   "name": "python3"
  },
  "language_info": {
   "codemirror_mode": {
    "name": "ipython",
    "version": 3
   },
   "file_extension": ".py",
   "mimetype": "text/x-python",
   "name": "python",
   "nbconvert_exporter": "python",
   "pygments_lexer": "ipython3",
   "version": "3.6.13"
  }
 },
 "nbformat": 4,
 "nbformat_minor": 4
}
