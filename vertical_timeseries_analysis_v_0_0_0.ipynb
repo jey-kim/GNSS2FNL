{
 "cells": [
  {
   "cell_type": "markdown",
   "metadata": {},
   "source": [
    "<img src=\"Figs/GEOS_Logo.pdf\" width=\"500\"/> "
   ]
  },
  {
   "cell_type": "markdown",
   "metadata": {},
   "source": [
    "\n",
    "# Step **11** of **`G2FNL`**: <font color=blue>\"vertical_timeseries_analysis.ipynb\"</font>\n",
    "#### Oct 22, 2021  <font color=red>(v. 0.0.0)</font> \n",
    "##### Jeonghyeop Kim (jeonghyeop.kim@gmail.com) \n",
    "\n",
    "> input prompts: **`yes`** or **`no`** \\\n",
    "> input files: **`vertical_analysis_PBO.out`**, **`monthlyAvg_i`**, and **`station_list_full.dat`**\\\n",
    "> output files: **`elasticOnly_i`** and **`vertical_analysis.out`**\n",
    "\n",
    "\n",
    "0. This code is a part of G2FNL process (Project1: GNSS to FNL)\n",
    "1. This code will analyze the vertical components of each time series data.\n",
    "2. vertical_analysis.out \n",
    "**1stCol=lon**; \n",
    "**2ndCol=lat**;\n",
    "**3rdCol=standard1**;\n",
    "**4thCol=standard2**;\n",
    "**5thCol=standard3**; \n",
    "**6thCol=MaxMonth**\n",
    "\n",
    "> standard1 : 0 if vertical position is in max in between May and Oct \\\n",
    "> standard1 : 1 if vertical position is in max in between Nov and Apr \\\n",
    "> \\\n",
    "> standard2 : 0 if the rate of subsidence is larger than -1 during the severe drought between 2012/1 and 12/2016 \\\n",
    "> standard2 : 1 if the rate of subsidence is less than -1 during the severe drought between 2012/1 and 12/2016 \\\n",
    "> \\\n",
    "> standard3 :  standard1 = standard2 = 1 => standard3 = 1 (and then rewrite standard1 = standard2 = 0)\n",
    "\n",
    "\n"
   ]
  },
  {
   "cell_type": "code",
   "execution_count": 1,
   "metadata": {},
   "outputs": [],
   "source": [
    "#import modules\n",
    "import numpy as np\n",
    "import pandas as pd\n",
    "import os"
   ]
  },
  {
   "cell_type": "code",
   "execution_count": 2,
   "metadata": {},
   "outputs": [
    {
     "data": {
      "text/plain": [
       "'/Users/jkim/main/GPS2FNL_2021/summer_project_2021'"
      ]
     },
     "execution_count": 2,
     "metadata": {},
     "output_type": "execute_result"
    }
   ],
   "source": [
    "#check the current dir. \n",
    "current_dir=os.getcwd()\n",
    "os.getcwd()"
   ]
  },
  {
   "cell_type": "code",
   "execution_count": 3,
   "metadata": {},
   "outputs": [],
   "source": [
    "station_file = 'station_list_full.dat'\n",
    "df_stID = pd.read_csv(station_file, header=None)\n",
    "df_stID.columns = ['stID']\n",
    "N = len(df_stID)"
   ]
  },
  {
   "cell_type": "code",
   "execution_count": 4,
   "metadata": {},
   "outputs": [
    {
     "name": "stdout",
     "output_type": "stream",
     "text": [
      " > If you are analyzing PBO stations, you can use the previous vertical prosition analysis results.\n",
      " >> If you are analyzing NOTA or all available GNSS data, you can NOT use the previous results.\n",
      " >>> If you use the previous results for NOTA or all stations, it will cause a serious error.\n",
      " >>>> Do you want to use the previous results? \n"
     ]
    },
    {
     "name": "stdin",
     "output_type": "stream",
     "text": [
      " >>>>> type 'yes' or 'no' : \n"
     ]
    },
    {
     "name": "stdout",
     "output_type": "stream",
     "text": [
      "*** Please type 'yes' or 'no' ***\n"
     ]
    },
    {
     "name": "stdin",
     "output_type": "stream",
     "text": [
      " type 'yes' or 'no'  yes\n"
     ]
    },
    {
     "name": "stdout",
     "output_type": "stream",
     "text": [
      " >>>>>> The previous results will be used to remove some stations affected by 'poroelastic' processes\n"
     ]
    }
   ],
   "source": [
    "# While the user input is not either yes or no, this loop will repeat\n",
    "\n",
    "while True:      \n",
    "    print(\" > If you are analyzing PBO stations, you can use the previous vertical prosition analysis results.\")\n",
    "    print(\" >> If you are analyzing NOTA or all available GNSS data, you can NOT use the previous results.\")\n",
    "    print(\" >>> If you use the previous results for NOTA or all stations, it will cause a serious error.\")    \n",
    "    print(\" >>>> Do you want to use the previous results? \")\n",
    "    YESorNO=input(\" >>>>> type 'yes' or 'no' :\")\n",
    "    YESorNO=YESorNO.lower()\n",
    "    \n",
    "    while YESorNO not in (\"yes\",\"no\"):\n",
    "        print(\"*** Please type 'yes' or 'no' ***\")\n",
    "        YESorNO=input(\" type 'yes' or 'no' \")\n",
    "        YESorNO=YESorNO.lower()\n",
    "        \n",
    "    if YESorNO == \"no\" or YESorNO == \"yes\":\n",
    "        break \n",
    "        #break the while loop\n",
    "         \n",
    "\n",
    "if YESorNO.startswith('y'): \n",
    "   \n",
    "    print(\" >>>>>> The previous results will be used to remove some stations affected by 'poroelastic' processes\")\n",
    "    df_vertical_results = pd.read_csv(\"vertical_analysis_PBO.out\", header=None, sep = ' ')\n",
    "    df_vertical_results.columns = ['lon','lat','standard1','standard2','standard3','MaxMonth']\n",
    "    bad_stations = df_vertical_results[(df_vertical_results['standard1']==1) | (df_vertical_results['standard2']==1) | (df_vertical_results['standard3']==1)]\n",
    "    idx_bad_stations=bad_stations.index.values\n",
    "    idx_bad_stations=idx_bad_stations.tolist()\n",
    "    \n",
    "    #save vertical_analysis.out here\n",
    "    df_vertical_results.to_csv('vertical_analysis.out',header=None,index=None ,float_format='%g', sep=' ')\n",
    "    \n",
    "    \n",
    "# NO!\n",
    "else: \n",
    "    \n",
    "    print(\" >>>>>> A new vertical position analysis will be performed to distinguish and remove stations affected by 'poroelastic' processes\")\n",
    "    # NOT available this method now. It will be updated later. \n",
    "    \n",
    "    ## PERFORM THE VERTICAL POSITION ANALYSIS HERE.\n",
    "    \n",
    "    \n",
    "    \n",
    "    \n",
    "    #save vertical_analysis.out here"
   ]
  },
  {
   "cell_type": "code",
   "execution_count": 5,
   "metadata": {},
   "outputs": [
    {
     "data": {
      "text/plain": [
       "'/Users/jkim/main/GPS2FNL_2021/summer_project_2021/data/processing'"
      ]
     },
     "execution_count": 5,
     "metadata": {},
     "output_type": "execute_result"
    }
   ],
   "source": [
    "#cd to processing directory\n",
    "processing_dir = os.path.join(current_dir, 'data', 'processing')\n",
    "os.chdir(processing_dir) # cp to processing directory\n",
    "os.getcwd()"
   ]
  },
  {
   "cell_type": "code",
   "execution_count": 7,
   "metadata": {},
   "outputs": [],
   "source": [
    "for i in range(N):\n",
    "    input_filename = \"monthlyAvg_\"+str(i+1)\n",
    "    df_input = pd.read_csv(input_filename, header=None, sep = ' ')\n",
    "    if i in idx_bad_stations:\n",
    "        df_input[:] = 0.0 # Remove the data from stations affected by \"poroelastic\" processes.\n",
    "    output_filename = \"elasticOnly_\"+str(i+1)\n",
    "    df_input.to_csv(output_filename, header=None,index=None ,float_format='%.6f', sep=' ')"
   ]
  },
  {
   "cell_type": "code",
   "execution_count": null,
   "metadata": {},
   "outputs": [],
   "source": []
  }
 ],
 "metadata": {
  "kernelspec": {
   "display_name": "Python 3",
   "language": "python",
   "name": "python3"
  },
  "language_info": {
   "codemirror_mode": {
    "name": "ipython",
    "version": 3
   },
   "file_extension": ".py",
   "mimetype": "text/x-python",
   "name": "python",
   "nbconvert_exporter": "python",
   "pygments_lexer": "ipython3",
   "version": "3.6.13"
  }
 },
 "nbformat": 4,
 "nbformat_minor": 4
}
