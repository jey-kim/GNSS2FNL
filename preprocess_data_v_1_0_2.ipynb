{
 "cells": [
  {
   "cell_type": "markdown",
   "metadata": {},
   "source": [
    "<img src=\"Figs/GEOS_Logo.pdf\" width=\"500\"/> "
   ]
  },
  {
   "cell_type": "markdown",
   "metadata": {},
   "source": [
    "\n",
    "# Step **2** of **`G2FNL`**: <font color=blue>\"preprocess_data.ipynb\"</font>\n",
    "#### Oct 2, 2021  <font color=red>(v. 1.0.2)</font> \n",
    "##### Jeonghyeop Kim (jeonghyeop.kim@gmail.com) \n",
    "\n",
    "\n",
    "> input files: **`GNSS data: STID.txt`** & **`station_list_full.dat`**\\\n",
    "> output files: **`pre_%d`**\n",
    "\n",
    "0. This code is a part of G2FNL process (Project1: GNSS to FNL)\n",
    "1. This code preprocess the downloaded GNSS position data \n",
    "\n",
    "> **Remove header** \\\n",
    "> **SAVE the following columns:** \n",
    "> time e n v se sn sv corr(e,n) network \n",
    "\n",
    "<div class=\"alert alert-danger\">\n",
    "Do NOT run this code twice without re-starting the kernel\n",
    "</div>\n"
   ]
  },
  {
   "cell_type": "code",
   "execution_count": 1,
   "metadata": {},
   "outputs": [],
   "source": [
    "import numpy as np\n",
    "import pandas as pd\n",
    "import os \n",
    "\n",
    "network_flag = 1\n",
    "# This is for GNSS network index.\n",
    "# If you don't jointly invert multiple GNSS networks, \n",
    "# This can be any integer. "
   ]
  },
  {
   "cell_type": "code",
   "execution_count": 2,
   "metadata": {},
   "outputs": [
    {
     "data": {
      "text/plain": [
       "'/Users/jkim/main/GPS2FNL_2021/summer_project_2021'"
      ]
     },
     "execution_count": 2,
     "metadata": {},
     "output_type": "execute_result"
    }
   ],
   "source": [
    "current_dir = os.getcwd()\n",
    "archive_dir = os.path.join(current_dir,'data', 'archive')\n",
    "processing_dir = os.path.join(current_dir, 'data', 'processing')\n",
    "os.getcwd()"
   ]
  },
  {
   "cell_type": "code",
   "execution_count": 3,
   "metadata": {},
   "outputs": [],
   "source": [
    "list_file='station_list_full.dat'\n",
    "df_list=pd.read_csv(list_file ,header=None, names=['Sta'])\n",
    "os.chdir(processing_dir) # cp to processing directory"
   ]
  },
  {
   "cell_type": "code",
   "execution_count": 5,
   "metadata": {},
   "outputs": [
    {
     "data": {
      "text/plain": [
       "'/Users/jkim/main/GPS2FNL_2021/summer_project_2021/data/processing'"
      ]
     },
     "execution_count": 5,
     "metadata": {},
     "output_type": "execute_result"
    }
   ],
   "source": [
    "os.getcwd() # make sure you are in 'processing directory'"
   ]
  },
  {
   "cell_type": "code",
   "execution_count": 6,
   "metadata": {},
   "outputs": [],
   "source": [
    "os.environ[\"DATA_PATH\"] = archive_dir\n",
    "!cp $DATA_PATH/*.txt .\n",
    "for index, row in df_list.iterrows():\n",
    "    \n",
    "    data_file=row[\"Sta\"]+\".txt\" # data file name\n",
    "    output_num=index+1 \n",
    "    output_name=\"pre_\"+str(output_num) # output file name\n",
    "    \n",
    "    #DataFrame does NOT read a header by its default\n",
    "    df_data=pd.read_csv(data_file, sep=r'(?:,|\\s+)', \n",
    "                            comment='#', engine='python') \n",
    "    \n",
    "    #SAVE columns \n",
    "    df_data=df_data[['YYMMMDD','__east(m)','_north(m)','____up(m)', \\\n",
    "                 'sig_e(m)','sig_n(m)','sig_u(m)','__corr_en']]\n",
    "    \n",
    "    # Add network index\n",
    "    df_data['flag']=np.array([network_flag] * len(df_data))\n",
    "    \n",
    "    \n",
    "    # SAVE file\n",
    "    df_data.to_csv(output_name, header=None, \\\n",
    "                   index=None, sep=' ',float_format='%g')"
   ]
  },
  {
   "cell_type": "code",
   "execution_count": null,
   "metadata": {},
   "outputs": [],
   "source": []
  }
 ],
 "metadata": {
  "kernelspec": {
   "display_name": "Python 3",
   "language": "python",
   "name": "python3"
  },
  "language_info": {
   "codemirror_mode": {
    "name": "ipython",
    "version": 3
   },
   "file_extension": ".py",
   "mimetype": "text/x-python",
   "name": "python",
   "nbconvert_exporter": "python",
   "pygments_lexer": "ipython3",
   "version": "3.8.3"
  }
 },
 "nbformat": 4,
 "nbformat_minor": 4
}
